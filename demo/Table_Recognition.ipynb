{
 "cells": [
  {
   "cell_type": "code",
   "execution_count": null,
   "metadata": {},
   "outputs": [],
   "source": [
    "import torch\n",
    "from PIL import Image\n",
    "from struct_eqtable import build_model\n",
    "from pypandoc import convert_text"
   ]
  },
  {
   "cell_type": "code",
   "execution_count": null,
   "metadata": {},
   "outputs": [],
   "source": [
    "# build model\n",
    "USE_CUDA = True\n",
    "model = build_model(\"../models/TR/StructEqTable/\", max_new_tokens=4096, max_time=60)\n",
    "if USE_CUDA:\n",
    "    model = model.cuda()"
   ]
  },
  {
   "cell_type": "code",
   "execution_count": null,
   "metadata": {},
   "outputs": [],
   "source": [
    "# model inference\n",
    "raw_image = Image.open(\"./demo_1.png\")\n",
    "latex_code_path = \"./demo_1_latex.txt\"\n",
    "markdown_path =  \"./demo_1_markdown.md\"\n",
    "\n",
    "with torch.no_grad():\n",
    "    output = model(raw_image)\n",
    "\n",
    "latex_code = output[0]\n",
    "markdown_code = convert_text(latex_code, 'md', format='latex')\n",
    "\n",
    "with open(latex_code_path, 'w') as f_latex:\n",
    "    f_latex.write(latex_code)\n",
    "with open(markdown_path, 'w') as f_md:\n",
    "    f_md.write(markdown_code)\n",
    "\n",
    "print(f\"Table Markdown code:\\n{markdown_code}\")"
   ]
  }
 ],
 "metadata": {
  "kernelspec": {
   "display_name": "Python 3",
   "language": "python",
   "name": "python3"
  },
  "language_info": {
   "codemirror_mode": {
    "name": "ipython",
    "version": 3
   },
   "file_extension": ".py",
   "mimetype": "text/x-python",
   "name": "python",
   "nbconvert_exporter": "python",
   "pygments_lexer": "ipython3",
   "version": "3.10.14"
  }
 },
 "nbformat": 4,
 "nbformat_minor": 2
}
