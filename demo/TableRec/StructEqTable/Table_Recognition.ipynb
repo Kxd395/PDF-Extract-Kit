{
 "cells": [
  {
   "cell_type": "code",
   "execution_count": 2,
   "metadata": {
    "vscode": {
     "languageId": "shellscript"
    }
   },
   "outputs": [
    {
     "name": "stdout",
     "output_type": "stream",
     "text": [
      "Looking in indexes: https://mirrors.aliyun.com/pypi/simple\n",
      "Requirement already satisfied: struct-eqtable==0.1.0 in /cpfs01/user/yanxiangchao/StructEqTable-Deploy (0.1.0)\n",
      "Requirement already satisfied: torch in /cpfs01/user/yanxiangchao/driver/anaconda3/envs/dev-table/lib/python3.10/site-packages (from struct-eqtable==0.1.0) (2.3.1)\n",
      "Requirement already satisfied: transformers in /cpfs01/user/yanxiangchao/driver/anaconda3/envs/dev-table/lib/python3.10/site-packages (from struct-eqtable==0.1.0) (4.40.0)\n",
      "Requirement already satisfied: filelock in /cpfs01/user/yanxiangchao/driver/anaconda3/envs/dev-table/lib/python3.10/site-packages (from torch->struct-eqtable==0.1.0) (3.15.4)\n",
      "Requirement already satisfied: typing-extensions>=4.8.0 in /cpfs01/user/yanxiangchao/driver/anaconda3/envs/dev-table/lib/python3.10/site-packages (from torch->struct-eqtable==0.1.0) (4.12.2)\n",
      "Requirement already satisfied: sympy in /cpfs01/user/yanxiangchao/driver/anaconda3/envs/dev-table/lib/python3.10/site-packages (from torch->struct-eqtable==0.1.0) (1.13.1)\n",
      "Requirement already satisfied: networkx in /cpfs01/user/yanxiangchao/driver/anaconda3/envs/dev-table/lib/python3.10/site-packages (from torch->struct-eqtable==0.1.0) (3.3)\n",
      "Requirement already satisfied: jinja2 in /cpfs01/user/yanxiangchao/driver/anaconda3/envs/dev-table/lib/python3.10/site-packages (from torch->struct-eqtable==0.1.0) (3.1.4)\n",
      "Requirement already satisfied: fsspec in /cpfs01/user/yanxiangchao/driver/anaconda3/envs/dev-table/lib/python3.10/site-packages (from torch->struct-eqtable==0.1.0) (2024.5.0)\n",
      "Requirement already satisfied: nvidia-cuda-nvrtc-cu12==12.1.105 in /cpfs01/user/yanxiangchao/driver/anaconda3/envs/dev-table/lib/python3.10/site-packages (from torch->struct-eqtable==0.1.0) (12.1.105)\n",
      "Requirement already satisfied: nvidia-cuda-runtime-cu12==12.1.105 in /cpfs01/user/yanxiangchao/driver/anaconda3/envs/dev-table/lib/python3.10/site-packages (from torch->struct-eqtable==0.1.0) (12.1.105)\n",
      "Requirement already satisfied: nvidia-cuda-cupti-cu12==12.1.105 in /cpfs01/user/yanxiangchao/driver/anaconda3/envs/dev-table/lib/python3.10/site-packages (from torch->struct-eqtable==0.1.0) (12.1.105)\n",
      "Requirement already satisfied: nvidia-cudnn-cu12==8.9.2.26 in /cpfs01/user/yanxiangchao/driver/anaconda3/envs/dev-table/lib/python3.10/site-packages (from torch->struct-eqtable==0.1.0) (8.9.2.26)\n",
      "Requirement already satisfied: nvidia-cublas-cu12==12.1.3.1 in /cpfs01/user/yanxiangchao/driver/anaconda3/envs/dev-table/lib/python3.10/site-packages (from torch->struct-eqtable==0.1.0) (12.1.3.1)\n",
      "Requirement already satisfied: nvidia-cufft-cu12==11.0.2.54 in /cpfs01/user/yanxiangchao/driver/anaconda3/envs/dev-table/lib/python3.10/site-packages (from torch->struct-eqtable==0.1.0) (11.0.2.54)\n",
      "Requirement already satisfied: nvidia-curand-cu12==10.3.2.106 in /cpfs01/user/yanxiangchao/driver/anaconda3/envs/dev-table/lib/python3.10/site-packages (from torch->struct-eqtable==0.1.0) (10.3.2.106)\n",
      "Requirement already satisfied: nvidia-cusolver-cu12==11.4.5.107 in /cpfs01/user/yanxiangchao/driver/anaconda3/envs/dev-table/lib/python3.10/site-packages (from torch->struct-eqtable==0.1.0) (11.4.5.107)\n",
      "Requirement already satisfied: nvidia-cusparse-cu12==12.1.0.106 in /cpfs01/user/yanxiangchao/driver/anaconda3/envs/dev-table/lib/python3.10/site-packages (from torch->struct-eqtable==0.1.0) (12.1.0.106)\n",
      "Requirement already satisfied: nvidia-nccl-cu12==2.20.5 in /cpfs01/user/yanxiangchao/driver/anaconda3/envs/dev-table/lib/python3.10/site-packages (from torch->struct-eqtable==0.1.0) (2.20.5)\n",
      "Requirement already satisfied: nvidia-nvtx-cu12==12.1.105 in /cpfs01/user/yanxiangchao/driver/anaconda3/envs/dev-table/lib/python3.10/site-packages (from torch->struct-eqtable==0.1.0) (12.1.105)\n",
      "Requirement already satisfied: triton==2.3.1 in /cpfs01/user/yanxiangchao/driver/anaconda3/envs/dev-table/lib/python3.10/site-packages (from torch->struct-eqtable==0.1.0) (2.3.1)\n",
      "Requirement already satisfied: nvidia-nvjitlink-cu12 in /cpfs01/user/yanxiangchao/driver/anaconda3/envs/dev-table/lib/python3.10/site-packages (from nvidia-cusolver-cu12==11.4.5.107->torch->struct-eqtable==0.1.0) (12.5.82)\n",
      "Requirement already satisfied: huggingface-hub<1.0,>=0.19.3 in /cpfs01/user/yanxiangchao/driver/anaconda3/envs/dev-table/lib/python3.10/site-packages (from transformers->struct-eqtable==0.1.0) (0.24.2)\n",
      "Requirement already satisfied: numpy>=1.17 in /cpfs01/user/yanxiangchao/driver/anaconda3/envs/dev-table/lib/python3.10/site-packages (from transformers->struct-eqtable==0.1.0) (1.26.4)\n",
      "Requirement already satisfied: packaging>=20.0 in /cpfs01/user/yanxiangchao/driver/anaconda3/envs/dev-table/lib/python3.10/site-packages (from transformers->struct-eqtable==0.1.0) (24.1)\n",
      "Requirement already satisfied: pyyaml>=5.1 in /cpfs01/user/yanxiangchao/driver/anaconda3/envs/dev-table/lib/python3.10/site-packages (from transformers->struct-eqtable==0.1.0) (6.0.1)\n",
      "Requirement already satisfied: regex!=2019.12.17 in /cpfs01/user/yanxiangchao/driver/anaconda3/envs/dev-table/lib/python3.10/site-packages (from transformers->struct-eqtable==0.1.0) (2024.7.24)\n",
      "Requirement already satisfied: requests in /cpfs01/user/yanxiangchao/driver/anaconda3/envs/dev-table/lib/python3.10/site-packages (from transformers->struct-eqtable==0.1.0) (2.32.3)\n",
      "Requirement already satisfied: tokenizers<0.20,>=0.19 in /cpfs01/user/yanxiangchao/driver/anaconda3/envs/dev-table/lib/python3.10/site-packages (from transformers->struct-eqtable==0.1.0) (0.19.1)\n",
      "Requirement already satisfied: safetensors>=0.4.1 in /cpfs01/user/yanxiangchao/driver/anaconda3/envs/dev-table/lib/python3.10/site-packages (from transformers->struct-eqtable==0.1.0) (0.4.3)\n",
      "Requirement already satisfied: tqdm>=4.27 in /cpfs01/user/yanxiangchao/driver/anaconda3/envs/dev-table/lib/python3.10/site-packages (from transformers->struct-eqtable==0.1.0) (4.66.4)\n",
      "Requirement already satisfied: MarkupSafe>=2.0 in /cpfs01/user/yanxiangchao/driver/anaconda3/envs/dev-table/lib/python3.10/site-packages (from jinja2->torch->struct-eqtable==0.1.0) (2.1.5)\n",
      "Requirement already satisfied: charset-normalizer<4,>=2 in /cpfs01/user/yanxiangchao/driver/anaconda3/envs/dev-table/lib/python3.10/site-packages (from requests->transformers->struct-eqtable==0.1.0) (3.3.2)\n",
      "Requirement already satisfied: idna<4,>=2.5 in /cpfs01/user/yanxiangchao/driver/anaconda3/envs/dev-table/lib/python3.10/site-packages (from requests->transformers->struct-eqtable==0.1.0) (3.7)\n",
      "Requirement already satisfied: urllib3<3,>=1.21.1 in /cpfs01/user/yanxiangchao/driver/anaconda3/envs/dev-table/lib/python3.10/site-packages (from requests->transformers->struct-eqtable==0.1.0) (2.2.2)\n",
      "Requirement already satisfied: certifi>=2017.4.17 in /cpfs01/user/yanxiangchao/driver/anaconda3/envs/dev-table/lib/python3.10/site-packages (from requests->transformers->struct-eqtable==0.1.0) (2024.7.4)\n",
      "Requirement already satisfied: mpmath<1.4,>=1.1.0 in /cpfs01/user/yanxiangchao/driver/anaconda3/envs/dev-table/lib/python3.10/site-packages (from sympy->torch->struct-eqtable==0.1.0) (1.3.0)\n",
      "\u001b[33mWARNING: Running pip as the 'root' user can result in broken permissions and conflicting behaviour with the system package manager. It is recommended to use a virtual environment instead: https://pip.pypa.io/warnings/venv\u001b[0m\u001b[33m\n",
      "\u001b[0mLooking in indexes: https://mirrors.aliyun.com/pypi/simple\n",
      "Requirement already satisfied: pypandoc in /cpfs01/user/yanxiangchao/driver/anaconda3/envs/dev-table/lib/python3.10/site-packages (1.13)\n",
      "\u001b[33mWARNING: Running pip as the 'root' user can result in broken permissions and conflicting behaviour with the system package manager. It is recommended to use a virtual environment instead: https://pip.pypa.io/warnings/venv\u001b[0m\u001b[33m\n",
      "\u001b[0mzsh: parse error near `()'\n"
     ]
    }
   ],
   "source": [
    "!pip install struct-eqtable==0.1.0\n",
    "!pip install pypandoc\n",
    "!pypandoc.download_pandoc()"
   ]
  },
  {
   "cell_type": "code",
   "execution_count": null,
   "metadata": {},
   "outputs": [],
   "source": [
    "import torch\n",
    "from PIL import Image\n",
    "from struct_eqtable import build_model\n",
    "from pypandoc import convert_text"
   ]
  },
  {
   "cell_type": "code",
   "execution_count": null,
   "metadata": {},
   "outputs": [],
   "source": [
    "# build model\n",
    "USE_CUDA = True\n",
    "model = build_model(\"../models/TR/StructEqTable/\", max_new_tokens=4096, max_time=60)\n",
    "if USE_CUDA:\n",
    "    model = model.cuda()"
   ]
  },
  {
   "cell_type": "code",
   "execution_count": null,
   "metadata": {},
   "outputs": [],
   "source": [
    "# model inference\n",
    "raw_image = Image.open(\"./demo_1.png\")\n",
    "latex_code_path = \"./demo_1_latex.txt\"\n",
    "markdown_path =  \"./demo_1_markdown.md\"\n",
    "\n",
    "with torch.no_grad():\n",
    "    output = model(raw_image)\n",
    "\n",
    "latex_code = output[0]\n",
    "markdown_code = convert_text(latex_code, 'md', format='latex')\n",
    "\n",
    "with open(latex_code_path, 'w') as f_latex:\n",
    "    f_latex.write(latex_code)\n",
    "with open(markdown_path, 'w') as f_md:\n",
    "    f_md.write(markdown_code)\n",
    "\n",
    "print(f\"Table Markdown code:\\n{markdown_code}\")"
   ]
  }
 ],
 "metadata": {
  "kernelspec": {
   "display_name": "Python 3",
   "language": "python",
   "name": "python3"
  },
  "language_info": {
   "codemirror_mode": {
    "name": "ipython",
    "version": 3
   },
   "file_extension": ".py",
   "mimetype": "text/x-python",
   "name": "python",
   "nbconvert_exporter": "python",
   "pygments_lexer": "ipython3",
   "version": "3.10.14"
  },
  "vscode": {
   "interpreter": {
    "hash": "3d4650e963d2ca70a8d3ad640fae20d7c25412e7514fa3bdab9d3e53a0fb087d"
   }
  }
 },
 "nbformat": 4,
 "nbformat_minor": 2
}
